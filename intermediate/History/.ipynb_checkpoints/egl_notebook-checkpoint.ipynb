{
 "cells": [
  {
   "cell_type": "markdown",
   "metadata": {},
   "source": [
    "# Testing Correlations\n",
    "Aiming to discover the correlations between FAME lipids and:\n",
    "1. Sunlight\n",
    "2. Average Daily Temperature\n",
    "3. pH\n",
    "4. NO3 Concentration (mg/L)\n",
    "5. NH4 Concentration (mg/L)\n",
    "6. Phosphorous Concentration (mg/L)\n",
    "\n",
    "Sample data will be taken from CP Ponds 5 & 6."
   ]
  },
  {
   "cell_type": "code",
   "execution_count": null,
   "metadata": {},
   "outputs": [],
   "source": []
  }
 ],
 "metadata": {
  "kernelspec": {
   "display_name": "Python 3",
   "language": "python",
   "name": "python3"
  },
  "language_info": {
   "codemirror_mode": {
    "name": "ipython",
    "version": 3
   },
   "file_extension": ".py",
   "mimetype": "text/x-python",
   "name": "python",
   "nbconvert_exporter": "python",
   "pygments_lexer": "ipython3",
   "version": "3.8.3"
  }
 },
 "nbformat": 4,
 "nbformat_minor": 4
}

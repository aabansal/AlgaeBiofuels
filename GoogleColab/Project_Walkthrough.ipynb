{
  "nbformat": 4,
  "nbformat_minor": 0,
  "metadata": {
    "colab": {
      "name": "Project_Walkthrough.ipynb",
      "provenance": [],
      "collapsed_sections": [],
      "toc_visible": true
    },
    "kernelspec": {
      "name": "python3",
      "display_name": "Python 3"
    }
  },
  "cells": [
    {
      "cell_type": "markdown",
      "metadata": {
        "id": "view-in-github"
      },
      "source": [
        "<a href=\"https://colab.research.google.com/github/aabansal/AlgaeBiofuels/blob/master/Project_Walkthrough.ipynb\" target=\"_parent\"><img src=\"https://colab.research.google.com/assets/colab-badge.svg\" alt=\"Open In Colab\"/></a>"
      ]
    },
    {
      "cell_type": "markdown",
      "metadata": {
        "id": "0FzpkyA54oBw"
      },
      "source": [
        "    Project walkthrough for the ISB Computational Modeling Workgroup Algae Biofuels Project.\n",
        "    Copyright (C) 2020  Everett Lee, Diego Garcia-Camargo, Gavin Kendal-Freedman, Amay Bansal\n",
        "\n",
        "    This program is free software: you can redistribute it and/or modify\n",
        "    it under the terms of the GNU General Public License as published by\n",
        "    the Free Software Foundation, either version 3 of the License, or\n",
        "    (at your option) any later version.\n",
        "\n",
        "    This program is distributed in the hope that it will be useful,\n",
        "    but WITHOUT ANY WARRANTY; without even the implied warranty of\n",
        "    MERCHANTABILITY or FITNESS FOR A PARTICULAR PURPOSE.  See the\n",
        "    GNU General Public License for more details.",
        "\n",
        "    You should have received a copy of the GNU General Public License\n",
        "    along with this program.  If not, see https://www.gnu.org/licenses/."
      ]
    },
    {
      "cell_type": "markdown",
      "metadata": {
        "id": "Fd3wYGtts5El"
      },
      "source": [
        "# Loading Libraries & Data\n",
        "  First we need to load the necessary Python Libraries to parse the dataset:"
      ]
    },
    {
      "cell_type": "code",
      "metadata": {
        "id": "8pwyLggTsl7v",
        "outputId": "c0b7c69c-05fe-4d3d-8543-fc70c4be1789",
        "colab": {
          "base_uri": "https://localhost:8080/",
          "height": 89
        }
      },
      "source": [
        "# Import necessary libraries.\n",
        "import numpy as np\n",
        "import pandas as pd\n",
        "from sklearn import preprocessing\n",
        "pd.plotting.register_matplotlib_converters()\n",
        "import matplotlib.pyplot as plt\n",
        "%matplotlib inline\n",
        "import seaborn as sns\n",
        "import scipy\n",
        "print(\"Setup Complete\")"
      ],
      "execution_count": null,
      "outputs": [
        {
          "output_type": "stream",
          "text": [
            "Setup Complete\n"
          ],
          "name": "stdout"
        },
        {
          "output_type": "stream",
          "text": [
            "/usr/local/lib/python3.6/dist-packages/statsmodels/tools/_testing.py:19: FutureWarning: pandas.util.testing is deprecated. Use the functions in the public API at pandas.testing instead.\n",
            "  import pandas.util.testing as tm\n"
          ],
          "name": "stderr"
        }
      ]
    },
    {
      "cell_type": "code",
      "metadata": {
        "id": "5pGKpxvUH4wp"
      },
      "source": [
        "# import file urls from github:\n",
        "composition_url = 'https://raw.githubusercontent.com/aabansal/AlgaeBiofuels/master/data/raw/ATP3-UFS-Composition.csv'\n",
        "instrumentation_url = 'https://raw.githubusercontent.com/aabansal/AlgaeBiofuels/master/data/raw/ATP3-UFS-Instrumentation-daily.csv'\n",
        "weather_url = 'https://raw.githubusercontent.com/aabansal/AlgaeBiofuels/master/data/raw/ATP3-UFS-Weather-daily.csv'\n",
        "input_url = 'https://raw.githubusercontent.com/aabansal/AlgaeBiofuels/master/data/raw/ATP3-UFS-SummaryCombinedData.csv'"
      ],
      "execution_count": null,
      "outputs": []
    },
    {
      "cell_type": "markdown",
      "metadata": {
        "id": "WqbCMbfd7OW7"
      },
      "source": [
        "# Merging Data Files"
      ]
    },
    {
      "cell_type": "markdown",
      "metadata": {
        "id": "KJLxPlO58bWb"
      },
      "source": [
        "For this analysis, we want to look at a multitude of factors in relation to algae cultivation. Specifically, we want to look at the production of usable Fatty Acid Methyl Esters (FAMEs), a type of lipid within the algae, for biofuel production. \n",
        "<br><br>\n",
        "The NREL website has different CSV files for each part of the dataset. For example, data relating to the biological composition of the algae (including FAME production) is saved as `'ATP3-UFS-Composition.csv'`. Harvest data is kept in the `'ATP3-UFS-SummaryCombinedData.csv'` file. Weather and Instrumentation data are kept in the `'ATP3-UFS-Instrumentation-daily.csv'`and `'ATP3-UFS-Weather-daily.csv'` files respectively. We need to combine these files into one csv in order to compare the factors that we are interested in.\n",
        "<br><br> \n",
        "<small>*(For more background information on the dataset, visit the [ research presentation page ](https://www.nature.com/articles/sdata2018267). The original csv files can be found [here](https://data.nrel.gov/submissions/76).)*\n",
        "<br><br>\n",
        "\n"
      ]
    },
    {
      "cell_type": "code",
      "metadata": {
        "id": "Y1e4t8affUvh"
      },
      "source": [
        "# Import the CSV files as DataFrames (a type of two-dimensional data structure that we imported with the Pandas library)\n",
        "composition_data = pd.read_csv(composition_url, index_col=0, parse_dates=['DATETIME'])\n",
        "input_data = pd.read_csv(input_url, index_col=0, parse_dates=['DateTime'])\n",
        "instrumentation_data = pd.read_csv(instrumentation_url, index_col = 0, parse_dates=['Date'])\n",
        "weather_data = pd.read_csv(weather_url, index_col = 0, parse_dates=['Date'])\n",
        "\n",
        "# Clean the Harvest Data\n",
        "input_data= input_data[input_data['Analytical.Sample.ID'].notna()]\n",
        "\n",
        "# We are going to start by merging Composition and harvest data\n",
        "# First, let's prep the DataFrames for merging by setting the row index to a shared identifier: 'Analytical.Sample.ID' \n",
        "composition_data = composition_data.set_index(\"Analytical.Sample.ID\")\n",
        "input_data = input_data.set_index(\"Analytical.Sample.ID\")\n",
        "\n",
        "# Merge files into new DataFrame \"combined_data\"\n",
        "combined_data = composition_data.merge(input_data)\n",
        "\n",
        "# Clean up redundant and unnecessary columns\n",
        "pd.DataFrame.drop_duplicates(combined_data)\n",
        "combined_data = combined_data.drop(['NH4.mg.L', 'NH4.PCT.RSD', 'crash', 'Comments', 'OD680', 'OD680.PCT.RSD',\n",
        "                                         'NO3.supplied.g', 'NO3.utilized.g', 'NO3.efficiency..', 'NH4.supplied.g',\t'NH4.utilized.g',\n",
        "                                         'NH4.efficiency..', 'P.supplied.g',\t'P.utilized.g',\t'P.efficiency..', 'mg.AFDW_mol.PAR.input',\n",
        "                                         'mg.AFDW_kW.GLE.input'], axis=1).rename(columns={'DATETIME': 'Date'})\n",
        "\n",
        "# Prepare other DataFrames for Merging by converting the datatype for the 'Date' column into dateTime\n",
        "combined_data['Date'] = pd.to_datetime(combined_data['Date'], format='%d%b%Y')\n",
        "combined_data['Date'] = combined_data['Date'].dt.date\n",
        "instrumentation_data['Date'] = pd.to_datetime(instrumentation_data['Date'], format='%d%b%Y')\n",
        "weather_data['Date'] = pd.to_datetime(weather_data['Date'], format='%d%b%Y')\n",
        "\n",
        "# Rename SiteID column and re-index DataFrames \n",
        "combined_data['SiteID2'] = combined_data['SiteID']\n",
        "combined_data = combined_data.set_index(['SiteID', 'PondID', 'Date'])\n",
        "instrumentation_data = instrumentation_data.set_index(['SiteID', 'Date'])\n",
        "\n",
        "#Merge the Data\n",
        "mid_merge = instrumentation_data.merge(weather_data, left_index=True, right_on=['SiteID', 'Date'])\n",
        "combined_data = combined_data.merge(mid_merge, left_index=True, right_on=['SiteID', 'PondID', 'Date'])\n",
        "\n",
        "#export newly combined csv to google colab file repository\n",
        "combined_data.to_csv(\"/content/Combined_Data.csv\")"
      ],
      "execution_count": null,
      "outputs": []
    },
    {
      "cell_type": "markdown",
      "metadata": {
        "id": "n4v1wygOgJZj"
      },
      "source": [
        "Our workspace is almost set up to begin working with the data. Let's just make sure everything worked... run the code cell below to open a preview of our combined_data"
      ]
    },
    {
      "cell_type": "code",
      "metadata": {
        "id": "DP7cax3-gIN4"
      },
      "source": [
        "combined_data.head()"
      ],
      "execution_count": null,
      "outputs": []
    },
    {
      "cell_type": "markdown",
      "metadata": {
        "id": "pM9_fK8hhZMw"
      },
      "source": [
        "Wow, this is a lot of data... and it is only 10 rows of the DataFrame (which is over 2,000 rows long). We also have 57 columns. Some of these columns are identifiers such as `'StrainID'`, `'SiteID'`, `'PondID'`, and `'Experiment ID'` that help us sort the data. Some other columns include actual data like `'Temp.C'`, `'pH_x'`, and `'RH(%)'` which are measurements taken of Temperature, pH, and relative humidity respectively.\n",
        "\n",
        "Something that you may have noticed is that some of the columns have NA values. This is bound to happen when we combine files because of the frequency with which certain measurements are taken. For example, columns from our `'input_data'` include harvest data which can only be measured on days that the Algae was harvested. When we combine this type of data with `'Weather_data'`, which is taken daily, we will end up with some empty datapoints.\n",
        "\n",
        "The following sections will work at making this data more understandable and accessible for analysis."
      ]
    },
    {
      "cell_type": "markdown",
      "metadata": {
        "id": "2YPIAyBgFFLP"
      },
      "source": [
        "# Create Correlation Heatmaps\n",
        "We have a large dataset with over 50 columns. To create a plot for each column and then look at a regression would be inefficient. In this section we will use Seaborn to produce correlation matrix heatmaps. This allows us to look at the relationships between many factors at once and specify which correlations we want to further investigate. \n"
      ]
    },
    {
      "cell_type": "markdown",
      "metadata": {
        "id": "hnz0qs-OJozq"
      },
      "source": [
        "We will be manipulating the data a lot so let's assign the combined Dataset to a new pandas dataframe object for this section. Let's also create new DataFrames for strain-specific analysis:"
      ]
    },
    {
      "cell_type": "code",
      "metadata": {
        "id": "9196LQyls_j6"
      },
      "source": [
        "# Reads in CSV file to a pandas DataFrame for manipulation:\n",
        "df = pd.read_csv(\"/content/Combined_Data.csv\", index_col=0)\n",
        "list(df.columns)\n",
        "\n",
        "# creates a single identifier specific to each pond within an experiment:\n",
        "df['ExperimentPondID'] = df['ExperimentID.1'] + df['PondID']\n",
        "\n",
        "# Create Datasets specific to each species based on 'StrainID' \n",
        "# As well as 'ALL' (all three species)\n",
        "LRB = df.loc[df['StrainID_x'] == 'LRB-AZ-1201']\n",
        "KA32 = df.loc[df['StrainID_x'] == 'KA32']\n",
        "C046 = df.loc[df['StrainID_x']== 'C046']\n",
        "ALL = df"
      ],
      "execution_count": null,
      "outputs": []
    },
    {
      "cell_type": "markdown",
      "metadata": {
        "id": "LOluZFe6Kwvh"
      },
      "source": [
        "Even though we dropped some columns when we merged CSVs, the DataFrame is still very big. Run the code cell below to see a list of our columns:"
      ]
    },
    {
      "cell_type": "code",
      "metadata": {
        "id": "a7XpmR4KKyKc",
        "outputId": "03050a3e-ac09-407f-b343-b49d0846c94f",
        "colab": {
          "base_uri": "https://localhost:8080/",
          "height": 269
        }
      },
      "source": [
        "df.columns"
      ],
      "execution_count": null,
      "outputs": [
        {
          "output_type": "execute_result",
          "data": {
            "text/plain": [
              "Index(['Protein.AF', 'FAME.Lipids.AF', 'Carbohydrates.AF', 'ExperimentID.1',\n",
              "       'StrainID', 'SourceID', 'BatchID', 'Duration.days', 'DateTime',\n",
              "       'TreatmentID', 'time.between.harvests.days', 'Harvest.',\n",
              "       'Harvest.Vol..L.', 'AFDW..g.L.', 'AFDW..g.', 'Depth.cm',\n",
              "       'Evaporation.Rate.cm.day', 'pH_x', 'Salinity', 'Temp.C', 'NO3.mg.L',\n",
              "       'NO3.PCT.RSD', 'P.mg.L', 'P.PCT.RSD', 'N.P.ratio', 'Tracking.ID',\n",
              "       'DW.g.L', 'DW.RSD', 'AFDW.g.L', 'AFDW.RSD', 'Ash', 'OD750',\n",
              "       'OD750.PCT.RSD', 'NO3.demand.g.N.g.AFDW', 'NH4.demand.g.N.g.AFDW',\n",
              "       'P.demand.g.P.g.AFDW', 'SiteID2', 'PondID', 'StrainID_x', 'pH_y',\n",
              "       'Temp.avg (C)', 'Temp.max (C)', 'Temp.min (C)', 'Cond (mS.cm)',\n",
              "       'DO (mg.L)', 'DO (%sat)', 'Sal (g.L)', 'PAR (umol.m2.s)', 'SiteID',\n",
              "       'StrainID_y', 'Date', 'AirTemp(C)', 'RH(%)', 'GlobalLightEnergy(W.m2)',\n",
              "       'WindSpeed(km.hr)', 'WDir(deg)', 'Precip.tot(cm)', 'ExperimentPondID'],\n",
              "      dtype='object')"
            ]
          },
          "metadata": {
            "tags": []
          },
          "execution_count": 45
        }
      ]
    },
    {
      "cell_type": "markdown",
      "metadata": {
        "id": "SdyUXSCyLfif"
      },
      "source": [
        "As you can see, in addition to a large number of columns, we have certain columns that wouldn't make sense for a heat map and won't help us effictively sort the data such as `'WDir(deg)'`, `'TrackingID'`, and `'TreatmendID'`. Let's trim down our data a little more:"
      ]
    },
    {
      "cell_type": "code",
      "metadata": {
        "id": "tn6IQHcSFE5W",
        "outputId": "9bae7f46-ca7e-4745-92ca-485d4f004d7b",
        "colab": {
          "base_uri": "https://localhost:8080/",
          "height": 123
        }
      },
      "source": [
        "# Select columns to investigate.\n",
        "col_list = ['Protein.AF',\n",
        " 'FAME.Lipids.AF',\n",
        " 'Carbohydrates.AF',\n",
        " 'Duration.days',\n",
        " 'time.between.harvests.days',\n",
        " 'Harvest.Vol..L.',\n",
        " 'AFDW..g.',\n",
        " 'Depth.cm',\n",
        " 'pH_x',\n",
        " 'Temp.C',\n",
        " 'NO3.mg.L',\n",
        " 'P.mg.L',\n",
        " 'OD750',\n",
        " 'Temp.avg (C)',\n",
        " 'Cond (mS.cm)',\n",
        " 'DO (mg.L)',\n",
        " 'DO (%sat)',\n",
        " 'Sal (g.L)',\n",
        " 'PAR (umol.m2.s)',\n",
        " 'AirTemp(C)',\n",
        " 'RH(%)',\n",
        " 'GlobalLightEnergy(W.m2)',\n",
        " 'WindSpeed(km.hr)',\n",
        " 'Precip.tot(cm)']\n",
        "\n",
        "# We will want to work with our original DataFrames later so we need to create\n",
        "# heatmap-specific DataFrames...\n",
        "\n",
        "# create dataFrame_fil variable for heatmaps ('df_fil' will be used for further \n",
        "# plots):\n",
        "KA32_fil = KA32[col_list]\n",
        "LRB_fil = LRB[col_list]\n",
        "C046_fil = C046[col_list]\n",
        "ALL_fil = ALL[col_list]\n",
        "ALL_fil['StrainID'] = ALL['StrainID_x']\n",
        "df_fil = df[col_list]\n",
        "\n",
        "# ignore 'SettingWithCopyWarning'"
      ],
      "execution_count": null,
      "outputs": [
        {
          "output_type": "stream",
          "text": [
            "/usr/local/lib/python3.6/dist-packages/ipykernel_launcher.py:36: SettingWithCopyWarning: \n",
            "A value is trying to be set on a copy of a slice from a DataFrame.\n",
            "Try using .loc[row_indexer,col_indexer] = value instead\n",
            "\n",
            "See the caveats in the documentation: https://pandas.pydata.org/pandas-docs/stable/user_guide/indexing.html#returning-a-view-versus-a-copy\n"
          ],
          "name": "stderr"
        }
      ]
    },
    {
      "cell_type": "markdown",
      "metadata": {
        "id": "28mUZ5eM3OjY"
      },
      "source": [
        "\n",
        "Let's remember our focus: the cultivation of Algae for biofuels. In this dataset, FAMEs values are recorded under the `'FAME.lipids.AF'` column which records the amount of Ash-Free FAMEs as a percentage of algae biomass. (Ash-Free specifies the amount of FAMEs that will not turn into ash when burned)\n",
        "<br><br>\n",
        "Each heatmap shows the strength of a correlation as a color gradient.\n",
        "Run the code cells below to generate the heatmaps and record any notable correlations for further investigation, paying special attention to `'FAME.lipids.AF'`.\n",
        "<br><br><small>*You can double click the KA32 header to look at the code behind each heatmap. Click the three dots on the top right for that code cell and select \"form\"->\"hide form\" to hide the header*\n"
      ]
    },
    {
      "cell_type": "code",
      "metadata": {
        "id": "R8xNEyDE3XW_",
        "cellView": "form",
        "outputId": "5d1f5218-ffb7-4ddf-c935-a2c5c3c24cd6",
        "colab": {
          "base_uri": "https://localhost:8080/",
          "height": 686
        }
      },
      "source": [
        "#@title KA32 correlation heatmap\n",
        "\n",
        "# Create correlation matrix using Pandas funtion .corr()\n",
        "KA32_corr = KA32_fil.corr()\n",
        "\n",
        "# Generate a mask for the top right so we only generate one correlation per \n",
        "# pair of factors.\n",
        "mask = np.triu(np.ones_like(KA32_corr, dtype=np.bool))\n",
        "\n",
        "# Set up figure using commands from matplot library\n",
        "f, ax = plt.subplots(figsize=(11, 9))\n",
        "\n",
        "# Generate custom color map\n",
        "cmap = sns.diverging_palette(220, 10, as_cmap=True)\n",
        "\n",
        "# Create figure using seaborn:\n",
        "sns.heatmap(KA32_corr, mask=mask, cmap=cmap, vmax=.3, center=0, square=True, linewidths=.5, cbar_kws={\"shrink\": .5})"
      ],
      "execution_count": null,
      "outputs": [
        {
          "output_type": "execute_result",
          "data": {
            "text/plain": [
              "<matplotlib.axes._subplots.AxesSubplot at 0x7f95cd465518>"
            ]
          },
          "metadata": {
            "tags": []
          },
          "execution_count": 19
        },
        {
          "output_type": "display_data",
          "data": {
            "image/png": "[encoded data removed]",
            "text/plain": [
              "<Figure size 792x648 with 2 Axes>"
            ]
          },
          "metadata": {
            "tags": [],
            "needs_background": "light"
          }
        }
      ]
    },
    {
      "cell_type": "code",
      "metadata": {
        "id": "WLtG_c-W3QF9",
        "cellView": "both"
      },
      "source": [
        "#@title LRB-AZ-1201 correlation heatmap\n",
        "LRB_corr = LRB_fil.corr()\n",
        "mask = np.triu(np.ones_like(LRB_corr, dtype=np.bool))\n",
        "f, ax = plt.subplots(figsize=(11, 9))\n",
        "cmap = sns.diverging_palette(220, 10, as_cmap=True)\n",
        "sns.heatmap(LRB_corr, mask=mask, cmap=cmap, vmax=.3, center=0, square=True, linewidths=.5, cbar_kws={\"shrink\": .5})"
      ],
      "execution_count": null,
      "outputs": []
    },
    {
      "cell_type": "code",
      "metadata": {
        "id": "lUriefS63qSS",
        "cellView": "both"
      },
      "source": [
        "#@title C046 correlation heatmap\n",
        "C046_corr = C046_fil.corr()\n",
        "mask = np.triu(np.ones_like(C046_corr, dtype=np.bool))\n",
        "f, ax = plt.subplots(figsize=(11, 9))\n",
        "cmap = sns.diverging_palette(220, 10, as_cmap=True)\n",
        "sns.heatmap(C046_corr, mask=mask, cmap=cmap, vmax=.3, center=0, square=True, linewidths=.5, cbar_kws={\"shrink\": .5})\n",
        "print('**This dataset has very few correlations- that doesn\\'t seem to follow \\nthe rest of the dataset. This is because the data for C046 is very \\nlimited. Let\\'s keep that in mind as we continue analyzing the data')"
      ],
      "execution_count": null,
      "outputs": []
    },
    {
      "cell_type": "code",
      "metadata": {
        "id": "rjk_2YjcAI18",
        "cellView": "both"
      },
      "source": [
        "#@title ALL correlation heatmap\n",
        "ALL_corr = df_fil.corr()\n",
        "mask = np.triu(np.ones_like(ALL_corr, dtype=np.bool))\n",
        "f, ax = plt.subplots(figsize=(11, 9))\n",
        "cmap = sns.diverging_palette(220, 10, as_cmap=True)\n",
        "sns.heatmap(ALL_corr, mask=mask, cmap=cmap, vmax=.3, center=0, square=True, linewidths=.5, cbar_kws={\"shrink\": .5})"
      ],
      "execution_count": null,
      "outputs": []
    },
    {
      "cell_type": "markdown",
      "metadata": {
        "id": "ocwXakms4jws"
      },
      "source": [
        "**Write down answers to the following questions:**\n",
        "1. Which correlations are positive and which are negative?\n",
        "2. Which correlations are consistent across Algal species? Which differ with each species?\n",
        "\n",
        "Write down any significant correlations!"
      ]
    },
    {
      "cell_type": "markdown",
      "metadata": {
        "id": "jYkDMdhVoAvW"
      },
      "source": [
        "# Generating the Averages Dataframe\n",
        "Because many of the expected correlations weren't showing up with the raw data, we figured that the effects couldn't be seen between certain variables(Lipids vs. NO3, Temperature vs. NO3) because of time. So, we took the averages for the data of each experiment run in each pond to see if we could account for the overall trends over time."
      ]
    },
    {
      "cell_type": "code",
      "metadata": {
        "id": "IFgZQv75n-TK",
        "outputId": "2c960f13-9014-4da1-f7dd-4ac3f79ddeaa",
        "colab": {
          "base_uri": "https://localhost:8080/",
          "height": 238
        }
      },
      "source": [
        "df = df.rename(columns={'StrainID_x' : 'StrainID'})\n",
        "df['ExperimentPondID'] = df['ExperimentID.1'] + df['PondID']\n",
        "df.sort_values(by='ExperimentPondID')\n",
        "experiments_list = df['ExperimentPondID'].unique()\n",
        "average_data = pd.DataFrame({'ExperimentPondID':experiments_list})\n",
        "column_names = list(df_fil.columns.values)\n",
        "for c in column_names:\n",
        "  avg_list = []\n",
        "  for e in experiments_list:\n",
        "    avg_list.append(df.loc[df['ExperimentPondID'] == e][c].mean())\n",
        "  average_data[c] = avg_list\n",
        "\n",
        "strains_list = []\n",
        "for e in experiments_list:\n",
        "  strains_list.append(df.loc[df['ExperimentPondID'] == e]['StrainID_y'].unique()[0])\n",
        "average_data['StrainID'] = strains_list\n",
        "average_data.head()"
      ],
      "execution_count": null,
      "outputs": [
        {
          "output_type": "execute_result",
          "data": {
            "text/html": [
              "<div>\n",
              "<style scoped>\n",
              "    .dataframe tbody tr th:only-of-type {\n",
              "        vertical-align: middle;\n",
              "    }\n",
              "\n",
              "    .dataframe tbody tr th {\n",
              "        vertical-align: top;\n",
              "    }\n",
              "\n",
              "    .dataframe thead th {\n",
              "        text-align: right;\n",
              "    }\n",
              "</style>\n",
              "<table border=\"1\" class=\"dataframe\">\n",
              "  <thead>\n",
              "    <tr style=\"text-align: right;\">\n",
              "      <th></th>\n",
              "      <th>ExperimentPondID</th>\n",
              "      <th>Protein.AF</th>\n",
              "      <th>FAME.Lipids.AF</th>\n",
              "      <th>Carbohydrates.AF</th>\n",
              "      <th>Duration.days</th>\n",
              "      <th>time.between.harvests.days</th>\n",
              "      <th>Harvest.Vol..L.</th>\n",
              "      <th>AFDW..g.</th>\n",
              "      <th>Depth.cm</th>\n",
              "      <th>pH_x</th>\n",
              "      <th>Temp.C</th>\n",
              "      <th>NO3.mg.L</th>\n",
              "      <th>P.mg.L</th>\n",
              "      <th>OD750</th>\n",
              "      <th>Temp.avg (C)</th>\n",
              "      <th>Cond (mS.cm)</th>\n",
              "      <th>DO (mg.L)</th>\n",
              "      <th>DO (%sat)</th>\n",
              "      <th>Sal (g.L)</th>\n",
              "      <th>PAR (umol.m2.s)</th>\n",
              "      <th>AirTemp(C)</th>\n",
              "      <th>RH(%)</th>\n",
              "      <th>GlobalLightEnergy(W.m2)</th>\n",
              "      <th>WindSpeed(km.hr)</th>\n",
              "      <th>Precip.tot(cm)</th>\n",
              "      <th>StrainID</th>\n",
              "    </tr>\n",
              "  </thead>\n",
              "  <tbody>\n",
              "    <tr>\n",
              "      <th>0</th>\n",
              "      <td>OCT172013P1</td>\n",
              "      <td>41.736970</td>\n",
              "      <td>14.664138</td>\n",
              "      <td>8.207273</td>\n",
              "      <td>32.660294</td>\n",
              "      <td>18.999421</td>\n",
              "      <td>1069.655833</td>\n",
              "      <td>396.976148</td>\n",
              "      <td>26.125000</td>\n",
              "      <td>8.192667</td>\n",
              "      <td>9.455556</td>\n",
              "      <td>21.085652</td>\n",
              "      <td>1.122727</td>\n",
              "      <td>1.262813</td>\n",
              "      <td>12.647647</td>\n",
              "      <td>41564.881765</td>\n",
              "      <td>5.919706</td>\n",
              "      <td>67.543529</td>\n",
              "      <td>27.693333</td>\n",
              "      <td>252.191000</td>\n",
              "      <td>14.725000</td>\n",
              "      <td>56.727647</td>\n",
              "      <td>130.255882</td>\n",
              "      <td>6.740588</td>\n",
              "      <td>0.249412</td>\n",
              "      <td>KA32</td>\n",
              "    </tr>\n",
              "    <tr>\n",
              "      <th>1</th>\n",
              "      <td>OCT172013P2</td>\n",
              "      <td>42.034194</td>\n",
              "      <td>14.957826</td>\n",
              "      <td>8.054839</td>\n",
              "      <td>32.660588</td>\n",
              "      <td>22.822338</td>\n",
              "      <td>1064.069583</td>\n",
              "      <td>396.324020</td>\n",
              "      <td>25.942000</td>\n",
              "      <td>8.146333</td>\n",
              "      <td>9.505556</td>\n",
              "      <td>19.674783</td>\n",
              "      <td>0.939091</td>\n",
              "      <td>1.273750</td>\n",
              "      <td>12.330909</td>\n",
              "      <td>43375.902059</td>\n",
              "      <td>7.814118</td>\n",
              "      <td>88.330882</td>\n",
              "      <td>28.995758</td>\n",
              "      <td>NaN</td>\n",
              "      <td>14.725000</td>\n",
              "      <td>56.727647</td>\n",
              "      <td>130.255882</td>\n",
              "      <td>6.740588</td>\n",
              "      <td>0.249412</td>\n",
              "      <td>KA32</td>\n",
              "    </tr>\n",
              "    <tr>\n",
              "      <th>2</th>\n",
              "      <td>OCT172013P3</td>\n",
              "      <td>42.112903</td>\n",
              "      <td>14.910870</td>\n",
              "      <td>8.299355</td>\n",
              "      <td>33.650303</td>\n",
              "      <td>22.822338</td>\n",
              "      <td>1061.900000</td>\n",
              "      <td>379.350681</td>\n",
              "      <td>25.903226</td>\n",
              "      <td>8.109000</td>\n",
              "      <td>9.472222</td>\n",
              "      <td>17.157826</td>\n",
              "      <td>0.936364</td>\n",
              "      <td>1.287419</td>\n",
              "      <td>13.820455</td>\n",
              "      <td>44828.144545</td>\n",
              "      <td>9.296061</td>\n",
              "      <td>105.746364</td>\n",
              "      <td>30.014687</td>\n",
              "      <td>268.913333</td>\n",
              "      <td>14.615758</td>\n",
              "      <td>55.777576</td>\n",
              "      <td>132.907576</td>\n",
              "      <td>6.679091</td>\n",
              "      <td>0.241515</td>\n",
              "      <td>KA32</td>\n",
              "    </tr>\n",
              "    <tr>\n",
              "      <th>3</th>\n",
              "      <td>OCT172013P4</td>\n",
              "      <td>37.601935</td>\n",
              "      <td>18.233200</td>\n",
              "      <td>8.625806</td>\n",
              "      <td>32.660588</td>\n",
              "      <td>19.308449</td>\n",
              "      <td>1067.486250</td>\n",
              "      <td>416.734360</td>\n",
              "      <td>26.214516</td>\n",
              "      <td>8.099667</td>\n",
              "      <td>9.500000</td>\n",
              "      <td>4.966522</td>\n",
              "      <td>0.307273</td>\n",
              "      <td>1.161563</td>\n",
              "      <td>12.791765</td>\n",
              "      <td>44171.610588</td>\n",
              "      <td>9.129706</td>\n",
              "      <td>99.595000</td>\n",
              "      <td>29.585758</td>\n",
              "      <td>NaN</td>\n",
              "      <td>14.725000</td>\n",
              "      <td>56.727647</td>\n",
              "      <td>130.255882</td>\n",
              "      <td>6.740588</td>\n",
              "      <td>0.249412</td>\n",
              "      <td>KA32</td>\n",
              "    </tr>\n",
              "    <tr>\n",
              "      <th>4</th>\n",
              "      <td>OCT172013P5</td>\n",
              "      <td>38.395517</td>\n",
              "      <td>17.400435</td>\n",
              "      <td>9.021724</td>\n",
              "      <td>33.972581</td>\n",
              "      <td>23.052083</td>\n",
              "      <td>1069.280000</td>\n",
              "      <td>385.870125</td>\n",
              "      <td>26.076552</td>\n",
              "      <td>8.180345</td>\n",
              "      <td>9.435294</td>\n",
              "      <td>3.943333</td>\n",
              "      <td>0.289091</td>\n",
              "      <td>1.166897</td>\n",
              "      <td>12.440323</td>\n",
              "      <td>42270.027742</td>\n",
              "      <td>7.583871</td>\n",
              "      <td>85.085806</td>\n",
              "      <td>28.257333</td>\n",
              "      <td>NaN</td>\n",
              "      <td>14.578065</td>\n",
              "      <td>56.500000</td>\n",
              "      <td>132.925806</td>\n",
              "      <td>6.993226</td>\n",
              "      <td>0.257097</td>\n",
              "      <td>KA32</td>\n",
              "    </tr>\n",
              "  </tbody>\n",
              "</table>\n",
              "</div>"
            ],
            "text/plain": [
              "  ExperimentPondID  Protein.AF  ...  Precip.tot(cm)  StrainID\n",
              "0      OCT172013P1   41.736970  ...        0.249412      KA32\n",
              "1      OCT172013P2   42.034194  ...        0.249412      KA32\n",
              "2      OCT172013P3   42.112903  ...        0.241515      KA32\n",
              "3      OCT172013P4   37.601935  ...        0.249412      KA32\n",
              "4      OCT172013P5   38.395517  ...        0.257097      KA32\n",
              "\n",
              "[5 rows x 26 columns]"
            ]
          },
          "metadata": {
            "tags": []
          },
          "execution_count": 20
        }
      ]
    },
    {
      "cell_type": "markdown",
      "metadata": {
        "id": "Cs9NY_VWI95a"
      },
      "source": [
        "# Data exploration through visualization\n",
        "**Write down answers to the following questions concerning the averages data**\n",
        "1. Which correlations are positive and which are negative?\n",
        "2. Which correlations are consistent across Algal species? Which differ with each species?\n",
        "3. Which correlations are present in the averages data that weren't present in the raw data, and vice versa?\n",
        "\n"
      ]
    },
    {
      "cell_type": "code",
      "metadata": {
        "id": "MaIQqEmc0X3X",
        "cellView": "form",
        "outputId": "b89fde9c-e07f-474f-9955-7fac77f757bf",
        "colab": {
          "base_uri": "https://localhost:8080/",
          "height": 567
        }
      },
      "source": [
        "#@title Graph Generator { run: \"auto\" }\n",
        "X = 'NO3.mg.L' #@param ['Protein.AF', 'FAME.Lipids.AF', 'Carbohydrates.AF', 'Duration.days', 'time.between.harvests.days', 'Harvest.Vol..L.', 'AFDW..g.', 'Depth.cm', 'pH_x', 'Temp.C', 'NO3.mg.L', 'P.mg.L', 'OD750', 'Temp.avg (C)', 'Cond (mS.cm)', 'DO (mg.L)', 'DO (%sat)', 'Sal (g.L)', 'PAR (umol.m2.s)', 'AirTemp(C)', 'RH(%)', 'GlobalLightEnergy(W.m2)', 'WindSpeed(km.hr)', 'WDir(deg)', 'Precip.tot(cm)']\n",
        "Y = 'FAME.Lipids.AF' #@param ['Protein.AF', 'FAME.Lipids.AF', 'Carbohydrates.AF', 'Duration.days', 'time.between.harvests.days', 'Harvest.Vol..L.', 'AFDW..g.', 'Depth.cm', 'pH_x', 'Temp.C', 'NO3.mg.L', 'P.mg.L', 'OD750', 'Temp.avg (C)', 'Cond (mS.cm)', 'DO (mg.L)', 'DO (%sat)', 'Sal (g.L)', 'PAR (umol.m2.s)', 'AirTemp(C)', 'RH(%)', 'GlobalLightEnergy(W.m2)', 'WindSpeed(km.hr)', 'WDir(deg)', 'Precip.tot(cm)']\n",
        "Species = \"All Species\" #@param [\"Nannochloropsis oceanica (KA32)\", \"Chlorella vulgaris (LRB-AZ-1201)\", \"Desmodesmus subspicatus (C046)\", \"All Species\"]\n",
        "Dataset = \"Averages\" #@param [\"Averages\", \"Raw Data\"]\n",
        "Hue = \"StrainID\" #@param [\"StrainID\", \"No Hue\"]\n",
        "Plot = \"Scatter\" #@param [\"Regression\", \"Scatter\"]\n",
        "Standard_Origin = False #@param {type:\"boolean\"}\n",
        "\n",
        "df_used = pd.DataFrame()\n",
        "\n",
        "# Dataset Sort\n",
        "if Dataset == 'Averages':\n",
        "  df_used = average_data\n",
        "  xtitle = X+'.avg'\n",
        "  ytitle = Y+'.avg'\n",
        "elif Dataset == 'Raw Data':\n",
        "  df_used = combined_data\n",
        "  xtitle = X\n",
        "  ytitle = Y\n",
        "\n",
        "# Strain Sort\n",
        "if Species == 'Nannochloropsis oceanica (KA32)':\n",
        "  df_used = df_used.loc[df_used['StrainID'] == 'KA32']\n",
        "elif Species == 'Chlorella vulgaris (LRB-AZ-1201)':\n",
        "  df_used = df_used.loc[df_used['StrainID'] == 'LRB-AZ-1201']\n",
        "elif Species == 'Desmodesmus subspicatus (C046)':\n",
        "  df_used = df_used.loc[df_used['StrainID'] == 'C046']\n",
        "elif Species == 'All Species':\n",
        "  df_used = df_used\n",
        "\n",
        "# Plot the Data\n",
        "if Plot == 'Regression' and Hue == 'StrainID':\n",
        "  sns.lmplot(x=X, y=Y, data=df_used, hue='StrainID', size=7)\n",
        "  ax = plt.gca()\n",
        "  ax.set(title=xtitle + ' vs. ' + ytitle, xlabel=xtitle, ylabel=ytitle)\n",
        "elif Plot == 'Regression' and Hue == 'No Hue':\n",
        "  sns.lmplot(x=X, y=Y, data=df_used, size=7)\n",
        "  ax = plt.gca()\n",
        "  ax.set(title=xtitle + ' vs. ' + ytitle, xlabel=xtitle, ylabel=ytitle)\n",
        "elif Plot == 'Scatter' and Hue == 'StrainID':\n",
        "  plt.figure(figsize=(8,8))\n",
        "  ax = sns.scatterplot(x=X, y=Y, data=df_used, hue='StrainID')\n",
        "  ax.set(title = xtitle + ' vs. ' + ytitle, xlabel=xtitle, ylabel=ytitle)\n",
        "elif Plot == 'Scatter' and Hue == 'No Hue':\n",
        "  plt.figure(figsize=(8,8))\n",
        "  ax = sns.scatterplot(x=X, y=Y, data=df_used)\n",
        "  ax.set(title = xtitle + ' vs. ' + ytitle, xlabel=xtitle, ylabel=ytitle)\n",
        "if Standard_Origin == True:\n",
        "  ax.set(ylim=(0, None), xlim=(0, None))\n",
        "\n",
        "# Generate Linear Regression Equation\n",
        "print('Regression:')\n",
        "print(scipy.stats.linregress(df_used[X], df_used[Y]))"
      ],
      "execution_count": null,
      "outputs": [
        {
          "output_type": "stream",
          "text": [
            "Regression:\n",
            "LinregressResult(slope=-0.06448335435282587, intercept=12.596619701549457, rvalue=-0.3425908572834495, pvalue=0.0036946908441822662, stderr=0.02144406467040779)\n"
          ],
          "name": "stdout"
        },
        {
          "output_type": "display_data",
          "data": {
            "image/png": "[encoded data removed]",
            "text/plain": [
              "<Figure size 576x576 with 1 Axes>"
            ]
          },
          "metadata": {
            "tags": [],
            "needs_background": "light"
          }
        }
      ]
    }
  ]
}

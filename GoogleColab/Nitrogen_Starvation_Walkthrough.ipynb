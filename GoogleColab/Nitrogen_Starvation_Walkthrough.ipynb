{
  "nbformat": 4,
  "nbformat_minor": 0,
  "metadata": {
    "colab": {
      "name": "Nitrogen Starvation Walkthrough.ipynb",
      "provenance": [],
      "toc_visible": true
    },
    "kernelspec": {
      "name": "python3",
      "display_name": "Python 3"
    }
  },
  "cells": [
    {
      "cell_type": "markdown",
      "metadata": {
        "id": "BLeID4nz3pNR",
        "colab_type": "text"
      },
      "source": [
        "# Goals\n",
        "1.   Visualize lipid and biomass changes based on NO3 starvation.\n",
        "2.   Gather numerical insights about the change in lipid content based on the length and extremity of the starvation period.\n",
        "\n",
        "The algae strain used in the data is *Chlamydomonas reinhardtii* (CC-1690).\n",
        "\n",
        "### Guide to Variable Names\n",
        "\n",
        "*   NR - Nile Red, a lipophilic stain used as a proxy for the amount of lipids in the sample.\n",
        "*   QY - Quantum Yield, a proxy for the health of the algae.\n",
        "*   OD - Optical Density, a proxy for the biomass of the algae.\n",
        "*   Counts - Cell count for the sample.\n",
        "*   BD or BODIPY - Another chemical compound used as a proxy to measure the amount of lipids.\n",
        "\n",
        "\n",
        "\n"
      ]
    },
    {
      "cell_type": "markdown",
      "metadata": {
        "id": "Ci7lb2fayui2",
        "colab_type": "text"
      },
      "source": [
        "# Loading Libraries & Data"
      ]
    },
    {
      "cell_type": "code",
      "metadata": {
        "id": "0C0s2YawukVz",
        "colab_type": "code",
        "colab": {
          "base_uri": "https://localhost:8080/",
          "height": 71
        },
        "outputId": "4c78ecb6-b541-4c64-8228-2c942f79be35"
      },
      "source": [
        "# Import necessary libraries.\n",
        "import numpy as np\n",
        "import pandas as pd\n",
        "from sklearn import preprocessing\n",
        "pd.plotting.register_matplotlib_converters()\n",
        "import matplotlib.pyplot as plt\n",
        "%matplotlib inline\n",
        "import seaborn as sns\n",
        "import scipy\n",
        "print(\"Setup Complete\")"
      ],
      "execution_count": 2,
      "outputs": [
        {
          "output_type": "stream",
          "text": [
            "Setup Complete\n"
          ],
          "name": "stdout"
        },
        {
          "output_type": "stream",
          "text": [
            "/usr/local/lib/python3.6/dist-packages/statsmodels/tools/_testing.py:19: FutureWarning: pandas.util.testing is deprecated. Use the functions in the public API at pandas.testing instead.\n",
            "  import pandas.util.testing as tm\n"
          ],
          "name": "stderr"
        }
      ]
    },
    {
      "cell_type": "code",
      "metadata": {
        "id": "6H9th_wTzFag",
        "colab_type": "code",
        "colab": {
          "base_uri": "https://localhost:8080/",
          "height": 309
        },
        "outputId": "7778fdc8-b2e6-4ab7-9726-2dfd4ba03420"
      },
      "source": [
        "src_url = 'https://raw.githubusercontent.com/aabansal/AlgaeBiofuels/master/data/raw/All_Phenotype_Data_N_starvation.csv'\n",
        "df = pd.read_csv(src_url)\n",
        "df.head()"
      ],
      "execution_count": 3,
      "outputs": [
        {
          "output_type": "execute_result",
          "data": {
            "text/html": [
              "<div>\n",
              "<style scoped>\n",
              "    .dataframe tbody tr th:only-of-type {\n",
              "        vertical-align: middle;\n",
              "    }\n",
              "\n",
              "    .dataframe tbody tr th {\n",
              "        vertical-align: top;\n",
              "    }\n",
              "\n",
              "    .dataframe thead th {\n",
              "        text-align: right;\n",
              "    }\n",
              "</style>\n",
              "<table border=\"1\" class=\"dataframe\">\n",
              "  <thead>\n",
              "    <tr style=\"text-align: right;\">\n",
              "      <th></th>\n",
              "      <th>Date</th>\n",
              "      <th>Hours</th>\n",
              "      <th>Time</th>\n",
              "      <th>Timepoint</th>\n",
              "      <th>Supplementation</th>\n",
              "      <th>Replicate</th>\n",
              "      <th>Starvation</th>\n",
              "      <th>Counts_Tech1</th>\n",
              "      <th>Counts_Tech2</th>\n",
              "      <th>Counts_Tech3</th>\n",
              "      <th>Counts_Tech4</th>\n",
              "      <th>Counts_DF</th>\n",
              "      <th>QY_Tech1</th>\n",
              "      <th>QY_Tech2</th>\n",
              "      <th>QY_Tech3</th>\n",
              "      <th>OD680_Tech1</th>\n",
              "      <th>OD680_Tech2</th>\n",
              "      <th>OD680_Tech3</th>\n",
              "      <th>OD720_Tech1</th>\n",
              "      <th>OD720_Tech2</th>\n",
              "      <th>OD720_Tech3</th>\n",
              "      <th>Nile_Red1</th>\n",
              "      <th>Nile_Red2</th>\n",
              "      <th>Nile_Red3</th>\n",
              "      <th>NR_DF</th>\n",
              "      <th>Bodipy_1</th>\n",
              "      <th>Bodipy_2</th>\n",
              "      <th>Bodipy_3</th>\n",
              "      <th>BD_DF</th>\n",
              "      <th>pH</th>\n",
              "      <th>Counts_Avg</th>\n",
              "      <th>QY_Avg</th>\n",
              "      <th>OD680_Avg</th>\n",
              "      <th>OD720_Avg</th>\n",
              "      <th>NR_Avg</th>\n",
              "      <th>Specific_NR</th>\n",
              "      <th>BD_Avg</th>\n",
              "      <th>Specific_BD</th>\n",
              "      <th>mM_NO3</th>\n",
              "      <th>mM_PO4</th>\n",
              "      <th>mM_SO4</th>\n",
              "    </tr>\n",
              "  </thead>\n",
              "  <tbody>\n",
              "    <tr>\n",
              "      <th>0</th>\n",
              "      <td>24-Jun</td>\n",
              "      <td>0.00</td>\n",
              "      <td>10:00</td>\n",
              "      <td>R</td>\n",
              "      <td>Replete</td>\n",
              "      <td>A</td>\n",
              "      <td>N</td>\n",
              "      <td>13</td>\n",
              "      <td>2</td>\n",
              "      <td>7</td>\n",
              "      <td>12</td>\n",
              "      <td>1</td>\n",
              "      <td>0.68</td>\n",
              "      <td>0.66</td>\n",
              "      <td>0.67</td>\n",
              "      <td>0.0350</td>\n",
              "      <td>0.0356</td>\n",
              "      <td>0.0347</td>\n",
              "      <td>0.0366</td>\n",
              "      <td>0.0353</td>\n",
              "      <td>0.0357</td>\n",
              "      <td>210</td>\n",
              "      <td>198</td>\n",
              "      <td>132</td>\n",
              "      <td>1</td>\n",
              "      <td>Nan</td>\n",
              "      <td>Nan</td>\n",
              "      <td>Nan</td>\n",
              "      <td>2</td>\n",
              "      <td>8.14</td>\n",
              "      <td>94350</td>\n",
              "      <td>0.670000</td>\n",
              "      <td>0.035100</td>\n",
              "      <td>0.035867</td>\n",
              "      <td>9.500000</td>\n",
              "      <td>0.100689</td>\n",
              "      <td>Nan</td>\n",
              "      <td>Nan</td>\n",
              "      <td>12.374411</td>\n",
              "      <td>0.572915</td>\n",
              "      <td>675.4125</td>\n",
              "    </tr>\n",
              "    <tr>\n",
              "      <th>1</th>\n",
              "      <td>24-Jun</td>\n",
              "      <td>12.00</td>\n",
              "      <td>22:00</td>\n",
              "      <td>R</td>\n",
              "      <td>Replete</td>\n",
              "      <td>A</td>\n",
              "      <td>N</td>\n",
              "      <td>19</td>\n",
              "      <td>27</td>\n",
              "      <td>15</td>\n",
              "      <td>14</td>\n",
              "      <td>1</td>\n",
              "      <td>0.66</td>\n",
              "      <td>0.68</td>\n",
              "      <td>0.67</td>\n",
              "      <td>0.0386</td>\n",
              "      <td>0.0401</td>\n",
              "      <td>0.0390</td>\n",
              "      <td>0.0211</td>\n",
              "      <td>0.0223</td>\n",
              "      <td>0.0236</td>\n",
              "      <td>307</td>\n",
              "      <td>290</td>\n",
              "      <td>302</td>\n",
              "      <td>1</td>\n",
              "      <td>Nan</td>\n",
              "      <td>Nan</td>\n",
              "      <td>Nan</td>\n",
              "      <td>2</td>\n",
              "      <td>8.10</td>\n",
              "      <td>208125</td>\n",
              "      <td>0.670000</td>\n",
              "      <td>0.039233</td>\n",
              "      <td>0.022333</td>\n",
              "      <td>129.166667</td>\n",
              "      <td>0.620621</td>\n",
              "      <td>Nan</td>\n",
              "      <td>Nan</td>\n",
              "      <td>17.025835</td>\n",
              "      <td>0.621113</td>\n",
              "      <td>607.4250</td>\n",
              "    </tr>\n",
              "    <tr>\n",
              "      <th>2</th>\n",
              "      <td>25-Jun</td>\n",
              "      <td>24.00</td>\n",
              "      <td>10:00</td>\n",
              "      <td>R</td>\n",
              "      <td>Replete</td>\n",
              "      <td>A</td>\n",
              "      <td>N</td>\n",
              "      <td>158</td>\n",
              "      <td>129</td>\n",
              "      <td>10</td>\n",
              "      <td>164</td>\n",
              "      <td>1</td>\n",
              "      <td>0.79</td>\n",
              "      <td>0.79</td>\n",
              "      <td>0.79</td>\n",
              "      <td>0.0998</td>\n",
              "      <td>0.1024</td>\n",
              "      <td>0.1070</td>\n",
              "      <td>0.0524</td>\n",
              "      <td>0.0565</td>\n",
              "      <td>0.0526</td>\n",
              "      <td>924</td>\n",
              "      <td>1039</td>\n",
              "      <td>968</td>\n",
              "      <td>1</td>\n",
              "      <td>2267</td>\n",
              "      <td>2062</td>\n",
              "      <td>2120</td>\n",
              "      <td>2</td>\n",
              "      <td>8.19</td>\n",
              "      <td>1279275</td>\n",
              "      <td>0.790000</td>\n",
              "      <td>0.103067</td>\n",
              "      <td>0.053833</td>\n",
              "      <td>806.500000</td>\n",
              "      <td>0.630435</td>\n",
              "      <td>-974.6666667</td>\n",
              "      <td>-0.761889873</td>\n",
              "      <td>16.795186</td>\n",
              "      <td>0.663527</td>\n",
              "      <td>613.2000</td>\n",
              "    </tr>\n",
              "    <tr>\n",
              "      <th>3</th>\n",
              "      <td>25-Jun</td>\n",
              "      <td>36.00</td>\n",
              "      <td>22:00</td>\n",
              "      <td>R</td>\n",
              "      <td>Replete</td>\n",
              "      <td>A</td>\n",
              "      <td>N</td>\n",
              "      <td>19</td>\n",
              "      <td>49</td>\n",
              "      <td>29</td>\n",
              "      <td>39</td>\n",
              "      <td>10</td>\n",
              "      <td>0.77</td>\n",
              "      <td>0.76</td>\n",
              "      <td>0.76</td>\n",
              "      <td>0.2465</td>\n",
              "      <td>0.2251</td>\n",
              "      <td>0.2367</td>\n",
              "      <td>0.1085</td>\n",
              "      <td>0.0829</td>\n",
              "      <td>0.0812</td>\n",
              "      <td>917</td>\n",
              "      <td>956</td>\n",
              "      <td>935</td>\n",
              "      <td>2</td>\n",
              "      <td>2287</td>\n",
              "      <td>2499</td>\n",
              "      <td>2313</td>\n",
              "      <td>2</td>\n",
              "      <td>8.24</td>\n",
              "      <td>3774000</td>\n",
              "      <td>0.763333</td>\n",
              "      <td>0.236100</td>\n",
              "      <td>0.090867</td>\n",
              "      <td>1531.000000</td>\n",
              "      <td>0.405670</td>\n",
              "      <td>-541.3333333</td>\n",
              "      <td>-0.143437555</td>\n",
              "      <td>14.065838</td>\n",
              "      <td>0.650031</td>\n",
              "      <td>676.4625</td>\n",
              "    </tr>\n",
              "    <tr>\n",
              "      <th>4</th>\n",
              "      <td>26-Jun</td>\n",
              "      <td>47.25</td>\n",
              "      <td>9:15</td>\n",
              "      <td>S1</td>\n",
              "      <td>Replete</td>\n",
              "      <td>A</td>\n",
              "      <td>N</td>\n",
              "      <td>39</td>\n",
              "      <td>40</td>\n",
              "      <td>46</td>\n",
              "      <td>40</td>\n",
              "      <td>10</td>\n",
              "      <td>0.76</td>\n",
              "      <td>0.76</td>\n",
              "      <td>0.76</td>\n",
              "      <td>0.3999</td>\n",
              "      <td>0.3380</td>\n",
              "      <td>0.3400</td>\n",
              "      <td>0.1239</td>\n",
              "      <td>0.1291</td>\n",
              "      <td>0.1296</td>\n",
              "      <td>435</td>\n",
              "      <td>406</td>\n",
              "      <td>459</td>\n",
              "      <td>6</td>\n",
              "      <td>1813</td>\n",
              "      <td>904</td>\n",
              "      <td>1816</td>\n",
              "      <td>2</td>\n",
              "      <td>8.29</td>\n",
              "      <td>4578750</td>\n",
              "      <td>0.760000</td>\n",
              "      <td>0.359300</td>\n",
              "      <td>0.127533</td>\n",
              "      <td>1577.000000</td>\n",
              "      <td>0.344417</td>\n",
              "      <td>-2252</td>\n",
              "      <td>-0.491837292</td>\n",
              "      <td>11.278827</td>\n",
              "      <td>0.559420</td>\n",
              "      <td>702.9750</td>\n",
              "    </tr>\n",
              "  </tbody>\n",
              "</table>\n",
              "</div>"
            ],
            "text/plain": [
              "     Date  Hours   Time Timepoint  ...   Specific_BD     mM_NO3    mM_PO4    mM_SO4\n",
              "0  24-Jun   0.00  10:00         R  ...           Nan  12.374411  0.572915  675.4125\n",
              "1  24-Jun  12.00  22:00         R  ...           Nan  17.025835  0.621113  607.4250\n",
              "2  25-Jun  24.00  10:00         R  ...  -0.761889873  16.795186  0.663527  613.2000\n",
              "3  25-Jun  36.00  22:00         R  ...  -0.143437555  14.065838  0.650031  676.4625\n",
              "4  26-Jun  47.25   9:15        S1  ...  -0.491837292  11.278827  0.559420  702.9750\n",
              "\n",
              "[5 rows x 41 columns]"
            ]
          },
          "metadata": {
            "tags": []
          },
          "execution_count": 3
        }
      ]
    },
    {
      "cell_type": "markdown",
      "metadata": {
        "id": "ljt3Gb-ezkHi",
        "colab_type": "text"
      },
      "source": [
        "# Data Visualization"
      ]
    },
    {
      "cell_type": "code",
      "metadata": {
        "id": "qvyS5BNMz39l",
        "colab_type": "code",
        "cellView": "form",
        "colab": {
          "base_uri": "https://localhost:8080/",
          "height": 404
        },
        "outputId": "983319b8-b80a-4af1-ed3e-b2ef18fb3d8e"
      },
      "source": [
        "#@title Graph Generator\n",
        "Y = 'NR_Avg' #@param [\"Counts_Avg\", \"QY_Avg\", \"OD680_Avg\", \"OD720_Avg\", \"NR_Avg\", \"Specific_NR\", \"BD_Avg\", \"Specific_BD\", \"mM_NO3\", \"mM_PO4\", \"mM_SO4\"]\n",
        "Set = 'A' #@param [\"A\", \"B\"]\n",
        "Supplementation = 'All' #@param [\"Replete\", \"Starvation\", \"Resupplementation\", \"All\"]\n",
        "Plot = 'Line' #@param [\"Line\", \"Scatter\"]\n",
        "\n",
        "# Sort by Set\n",
        "df_used = df.loc[df['Replicate'] == Set]\n",
        "# Sort by Supplementation\n",
        "if Supplementation != 'All':\n",
        "  df_used = df_used.loc[df_used['Supplementation'] == Supplementation]\n",
        "# Generate Plots\n",
        "if Plot == 'Line':\n",
        "  plt.figure(figsize=(10,6))\n",
        "  ax = sns.lineplot(x=df_used['Hours'], y=df_used[Y], hue=df_used['Supplementation'])\n",
        "  ax.set(title = Y + \" vs. Time\", xlabel='Time (H)', ylabel=Y)\n",
        "elif Plot == 'Scatter':\n",
        "  plt.figure(figsize=(10,6))\n",
        "  ax = sns.scatterplot(x=df_used['Hours'], y=df_used[Y], hue=df_used['Supplementation'])\n",
        "  ax.set(title = Y + \" vs. Time\", xlabel='Time (H)', ylabel=Y)"
      ],
      "execution_count": null,
      "outputs": [
        {
          "output_type": "display_data",
          "data": {
            "image/png": "[encoded data removed]",
            "text/plain": [
              "<Figure size 720x432 with 1 Axes>"
            ]
          },
          "metadata": {
            "tags": [],
            "needs_background": "light"
          }
        }
      ]
    },
    {
      "cell_type": "markdown",
      "metadata": {
        "id": "Lc700tsLaPmN",
        "colab_type": "text"
      },
      "source": [
        "# Numerical Insights About Supplementation Periods\n",
        "What is the slope of lipid accumulation during these periods? Changes in biomass?\n",
        "\n"
      ]
    },
    {
      "cell_type": "code",
      "metadata": {
        "id": "88vMoHR6ahfv",
        "colab_type": "code",
        "colab": {
          "base_uri": "https://localhost:8080/",
          "height": 463
        },
        "outputId": "a26d9d69-4ab9-4356-9a91-731362f784d7"
      },
      "source": [
        "df_replete = df.loc[df['Supplementation'] == 'Replete']\n",
        "print('Replete:')\n",
        "print(scipy.stats.linregress(df_replete['Hours']-48, df_replete['NR_Avg']))\n",
        "print(scipy.stats.linregress(df_replete['Hours']-48, df_replete['OD720_Avg']))\n",
        "\n",
        "df_starve = df.loc[df['Supplementation'] == 'Starvation']\n",
        "print('Starvation:')\n",
        "print(scipy.stats.linregress(df_starve['Hours']-48, df_starve['NR_Avg']))\n",
        "print(scipy.stats.linregress(df_starve['Hours']-48, df_starve['OD720_Avg']))\n",
        "\n",
        "df_resupp = df.loc[df['Supplementation'] == 'Starvation']\n",
        "print('Resupplementation:')\n",
        "print(scipy.stats.linregress(df_resupp['Hours']-48, df_resupp['NR_Avg']))\n",
        "print(scipy.stats.linregress(df_resupp['Hours']-48, df_resupp['OD720_Avg']))\n",
        "\n",
        "sns.regplot(x=df_replete['Hours'], y=df_replete['OD720_Avg'])"
      ],
      "execution_count": null,
      "outputs": [
        {
          "output_type": "stream",
          "text": [
            "Replete:\n",
            "LinregressResult(slope=33.37644629696358, intercept=1563.7745114456704, rvalue=0.8767654153989414, pvalue=0.0008673489788120798, stderr=6.472662891076955)\n",
            "LinregressResult(slope=0.002194328737957919, intercept=0.11890970572168374, rvalue=0.9414458336219584, pvalue=4.790289927618017e-05, stderr=0.00027784520095332655)\n",
            "Starvation:\n",
            "LinregressResult(slope=219.1927764958632, intercept=232.2441389530593, rvalue=0.8500763097992626, pvalue=0.0001177436976897236, stderr=39.2019485399561)\n",
            "LinregressResult(slope=0.0027373098101880814, intercept=0.0442246518672921, rvalue=0.8937955345633807, pvalue=1.6420977652081384e-05, stderr=0.000396490771183071)\n",
            "Resupplementation:\n",
            "LinregressResult(slope=219.1927764958632, intercept=232.2441389530593, rvalue=0.8500763097992626, pvalue=0.0001177436976897236, stderr=39.2019485399561)\n",
            "LinregressResult(slope=0.0027373098101880814, intercept=0.0442246518672921, rvalue=0.8937955345633807, pvalue=1.6420977652081384e-05, stderr=0.000396490771183071)\n"
          ],
          "name": "stdout"
        },
        {
          "output_type": "execute_result",
          "data": {
            "text/plain": [
              "<matplotlib.axes._subplots.AxesSubplot at 0x7f2c736886a0>"
            ]
          },
          "metadata": {
            "tags": []
          },
          "execution_count": 173
        },
        {
          "output_type": "display_data",
          "data": {
            "image/png": "[encoded data removed]",
            "text/plain": [
              "<Figure size 432x288 with 1 Axes>"
            ]
          },
          "metadata": {
            "tags": [],
            "needs_background": "light"
          }
        }
      ]
    },
    {
      "cell_type": "markdown",
      "metadata": {
        "id": "SxM2joD2r3tP",
        "colab_type": "text"
      },
      "source": [
        "These slopes will be used to help inform our systems model in NetLogo."
      ]
    }
  ]
}
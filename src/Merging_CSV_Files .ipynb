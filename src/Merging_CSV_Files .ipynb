{
  "nbformat": 4,
  "nbformat_minor": 0,
  "metadata": {
    "colab": {
      "name": "Merging CSV Files.ipynb",
      "provenance": [],
      "collapsed_sections": [],
      "toc_visible": true
    },
    "kernelspec": {
      "name": "python3",
      "display_name": "Python 3"
    }
  },
  "cells": [
    {
      "cell_type": "markdown",
      "metadata": {
        "id": "oqPqaB_-4VVr",
        "colab_type": "text"
      },
      "source": [
        "# Merging CSV files\n",
        "Code used to merge CSV files"
      ]
    },
    {
      "cell_type": "code",
      "metadata": {
        "id": "IGt4xRvn4LyL",
        "colab_type": "code",
        "colab": {
          "base_uri": "https://localhost:8080/",
          "height": 34
        },
        "outputId": "b80f4b74-3e3a-4d74-ad36-505b9b0e2517"
      },
      "source": [
        "# Import necessary libraries.\n",
        "import numpy as np\n",
        "import pandas as pd\n",
        "from sklearn import preprocessing\n",
        "print(\"Setup Complete\")"
      ],
      "execution_count": null,
      "outputs": [
        {
          "output_type": "stream",
          "text": [
            "Setup Complete\n"
          ],
          "name": "stdout"
        }
      ]
    },
    {
      "cell_type": "code",
      "metadata": {
        "id": "glAB6QPG4yX-",
        "colab_type": "code",
        "colab": {}
      },
      "source": [
        "# Import the data.\n",
        "\n",
        "composition_data = pd.read_csv(\"/content/ATP3-UFS-Composition.csv\", index_col=0, parse_dates=['DATETIME'])\n",
        "input_data_initial = pd.read_csv(\"/content/ATP3-UFS-SummaryCombinedData.csv\", index_col=0, parse_dates=['DateTime'])\n",
        "instrumentation_data = pd.read_csv(\"/content/ATP3-UFS-Instrumentation-daily.csv\", index_col = 0, parse_dates=['Date'])\n",
        "weather_data = pd.read_csv(\"/content/ATP3-UFS-Weather-daily.csv\", index_col = 0, parse_dates=['Date'])"
      ],
      "execution_count": 5,
      "outputs": []
    },
    {
      "cell_type": "code",
      "metadata": {
        "id": "PPjVANjrzuTE",
        "colab_type": "code",
        "colab": {}
      },
      "source": [
        "#Clean the Data\n",
        "\n",
        "input_data_cleaned = input_data_initial[input_data_initial['Analytical.Sample.ID'].notna()]\n",
        "temp1 = composition_data.set_index(\"Analytical.Sample.ID\")\n",
        "temp2 = input_data_cleaned.set_index(\"Analytical.Sample.ID\")\n",
        "combined_data_init = temp1.merge(temp2)\n",
        "pd.DataFrame.drop_duplicates(combined_data_init)\n",
        "combined_data_temp = combined_data_init.drop(['NH4.mg.L', 'NH4.PCT.RSD', 'crash', 'Comments', 'OD680', 'OD680.PCT.RSD',\n",
        "                                         'NO3.supplied.g', 'NO3.utilized.g', 'NO3.efficiency..', 'NH4.supplied.g',\t'NH4.utilized.g',\n",
        "                                         'NH4.efficiency..', 'P.supplied.g',\t'P.utilized.g',\t'P.efficiency..', 'mg.AFDW_mol.PAR.input',\n",
        "                                         'mg.AFDW_kW.GLE.input'], axis=1).rename(columns={'DATETIME': 'Date'})"
      ],
      "execution_count": 6,
      "outputs": []
    },
    {
      "cell_type": "code",
      "metadata": {
        "id": "YCjqFqD9zszF",
        "colab_type": "code",
        "colab": {}
      },
      "source": [
        "#Prepare the Data for Merging\n",
        "\n",
        "combined_data_temp['Date'] = pd.to_datetime(combined_data_temp['Date'], format='%d%b%Y')\n",
        "combined_data_temp['SiteID2'] = combined_data_temp['SiteID']\n",
        "combined_data_temp = combined_data_temp.set_index(['SiteID', 'Date'])\n",
        "weather_data = weather_data.set_index(['SiteID', 'Date'])\n",
        "instrumentation_data = instrumentation_data.set_index(['SiteID', 'Date'])"
      ],
      "execution_count": 7,
      "outputs": []
    },
    {
      "cell_type": "markdown",
      "metadata": {
        "id": "-bH_IXyXz4gm",
        "colab_type": "text"
      },
      "source": [
        "Merge the Data\n",
        "\n",
        "---\n",
        "\n",
        "\n",
        "**Use only one of the two lines of code**"
      ]
    },
    {
      "cell_type": "code",
      "metadata": {
        "id": "Zw2vahiMzr15",
        "colab_type": "code",
        "colab": {}
      },
      "source": [
        "# combined_data = combined_data_temp.merge(weather_data)\n",
        "combined_data = combined_data_temp.merge(instrumentation_data)"
      ],
      "execution_count": 8,
      "outputs": []
    },
    {
      "cell_type": "code",
      "metadata": {
        "id": "rS9Am7HTzqtT",
        "colab_type": "code",
        "colab": {
          "base_uri": "https://localhost:8080/",
          "height": 257
        },
        "outputId": "9b1c0151-436c-4725-8443-0579ec64d091"
      },
      "source": [
        "#export and test the csv file\n",
        "combined_data.to_csv(\"/content/Combined Data.csv\")\n",
        "combined_data.head"
      ],
      "execution_count": 9,
      "outputs": [
        {
          "output_type": "execute_result",
          "data": {
            "text/plain": [
              "<bound method NDFrame.head of        Protein.AF  FAME.Lipids.AF  ...  Sal (g.L) PAR (umol.m2.s)\n",
              "0           43.86           10.77  ...      32.11           62.10\n",
              "1           43.07           13.09  ...      27.13          303.42\n",
              "2           42.08           14.07  ...      27.13          303.42\n",
              "3           43.40             NaN  ...      36.09             NaN\n",
              "4           44.66           13.77  ...      31.51             NaN\n",
              "...           ...             ...  ...        ...             ...\n",
              "21769       34.27            7.99  ...       0.83             NaN\n",
              "21770       34.27            7.99  ...       0.80             NaN\n",
              "21771       34.27            7.99  ...       0.80             NaN\n",
              "21772       34.27            7.99  ...       0.50             NaN\n",
              "21773       34.27            7.99  ...       0.40             NaN\n",
              "\n",
              "[21774 rows x 46 columns]>"
            ]
          },
          "metadata": {
            "tags": []
          },
          "execution_count": 9
        }
      ]
    }
  ]
}